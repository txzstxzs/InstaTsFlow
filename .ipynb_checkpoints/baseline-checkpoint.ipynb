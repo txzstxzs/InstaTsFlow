{
 "cells": [
  {
   "cell_type": "code",
   "execution_count": 9,
   "id": "2e0e5f23",
   "metadata": {},
   "outputs": [],
   "source": [
    "import matplotlib.pyplot as plt\n",
    "import numpy as np\n",
    "import pandas as pd\n",
    "from sklearn.preprocessing import MinMaxScaler,StandardScaler\n",
    "from pypots.imputation import SAITS  \n",
    "from pypots.utils.metrics import calc_mse,calc_rmse,calc_mae\n",
    "from pypots.optim import Adam\n",
    "import torch\n",
    "from torch.utils.data import Dataset\n",
    "from torch.utils.data import DataLoader\n",
    "import time\n",
    "from utils.util import get_mask_mnr, get_mask_bm, get_mask_rm, get_mask_mcar\n"
   ]
  },
  {
   "cell_type": "code",
   "execution_count": 10,
   "id": "d79da506",
   "metadata": {},
   "outputs": [
    {
     "name": "stdout",
     "output_type": "stream",
     "text": [
      "5775 30 6\n"
     ]
    }
   ],
   "source": [
    "data_name = 'sp500'\n",
    "# data_name = 'ETTh1'\n",
    "# data_name = 'energy'\n",
    "# data_name = 'mujoco'\n",
    "\n",
    "\n",
    "if data_name == 'sp500':\n",
    "    train_data_path = \"./datasets/sp500.npy\"\n",
    "\n",
    "if data_name == 'energy':\n",
    "    train_data_path = \"./datasets/energy.npy\"\n",
    "    \n",
    "if data_name == 'ETTh1':\n",
    "    train_data_path= \"./datasets/ETTh1.npy\"\n",
    "    \n",
    "if data_name == 'mujoco':\n",
    "    train_data_path = \"./datasets/MuJoCo.npy\"\n",
    "\n",
    "\n",
    "load_data = np.load(train_data_path)\n",
    "np.random.shuffle(load_data)\n",
    "\n",
    "Number, Length, Attribute  = load_data.shape\n",
    "print(Number, Length, Attribute)"
   ]
  },
  {
   "cell_type": "code",
   "execution_count": 11,
   "id": "65d96e63",
   "metadata": {},
   "outputs": [],
   "source": [
    "mr = 0.3\n",
    "mechanism = 'mcar'\n",
    "# mechanism = 'mnr'\n",
    "missing_length = int( mr * Length )"
   ]
  },
  {
   "cell_type": "code",
   "execution_count": 12,
   "id": "d16c8c45",
   "metadata": {},
   "outputs": [
    {
     "name": "stdout",
     "output_type": "stream",
     "text": [
      "torch.Size([0, 30, 6])\n",
      "(5775, 30, 6)\n",
      "0.3\n",
      "0.3\n",
      "0.3 mcar 9\n"
     ]
    }
   ],
   "source": [
    "Mask = torch.empty([0, Length, Attribute])    \n",
    "print( Mask.shape)\n",
    "\n",
    "for i in range(Number):\n",
    "    if mechanism == 'mcar':\n",
    "        one_mask = get_mask_mcar( load_data[0], mr)  \n",
    "    else:\n",
    "        one_mask = get_mask_mnr( load_data[0], missing_length) \n",
    "    one_mask = one_mask.unsqueeze(0)   \n",
    "    Mask = torch.row_stack([Mask, one_mask])\n",
    "Mask = Mask.float().numpy()\n",
    "\n",
    "print( Mask.shape  )\n",
    "print( (1-Mask).sum()/( (1-Mask).sum()+Mask.sum() ) )  \n",
    "print( (1-Mask).sum()/( Number* Length*Attribute )  )\n",
    "print(mr, mechanism, missing_length)"
   ]
  },
  {
   "cell_type": "code",
   "execution_count": 13,
   "id": "eb297db0",
   "metadata": {},
   "outputs": [],
   "source": [
    "train_data = load_data * Mask\n",
    "train_data[train_data == 0] = np.nan\n",
    "train_set = {\"X\": train_data}"
   ]
  },
  {
   "cell_type": "code",
   "execution_count": 14,
   "id": "8308470d",
   "metadata": {},
   "outputs": [
    {
     "name": "stdout",
     "output_type": "stream",
     "text": [
      "0.3 mcar\n"
     ]
    }
   ],
   "source": [
    "Mask = torch.empty([0, Length, Attribute])    \n",
    "for i in range(Number):\n",
    "    if mechanism == 'mcar':\n",
    "        one_mask = get_mask_mcar( load_data[0], mr)  \n",
    "    else:\n",
    "        one_mask = get_mask_mnr( load_data[0], missing_length) \n",
    "    one_mask = one_mask.unsqueeze(0)   \n",
    "    Mask = torch.row_stack([Mask, one_mask])\n",
    "\n",
    "Mask = Mask.float().numpy()\n",
    "test_data = load_data * Mask\n",
    "test_data[test_data == 0] = np.nan\n",
    "test_set =  {\"X\": test_data}\n",
    "print(mr, mechanism)"
   ]
  },
  {
   "cell_type": "code",
   "execution_count": 18,
   "id": "25ce53ef",
   "metadata": {},
   "outputs": [],
   "source": [
    "saits = SAITS(n_steps=train_data.shape[1], n_features=train_data.shape[2],\n",
    "              n_layers=2, d_model=256, n_heads=4, d_k=64, d_v=64, d_ffn=128, dropout=0.1, \n",
    "#               n_layers=2, d_model=256, n_heads=4, d_k=128, d_v=128, d_ffn=128, dropout=0.1,  # for mujoco\n",
    "              num_workers=0, optimizer=Adam(lr=1e-3), \n",
    "              batch_size=200, epochs=500, )"
   ]
  },
  {
   "cell_type": "code",
   "execution_count": 17,
   "id": "aeb98bc6",
   "metadata": {},
   "outputs": [],
   "source": [
    "saits.fit( train_set = train_set) "
   ]
  },
  {
   "cell_type": "code",
   "execution_count": 2,
   "id": "223883a7",
   "metadata": {},
   "outputs": [],
   "source": [
    "result = saits.predict(test_set)\n",
    "result = result[\"imputation\"]\n",
    "print(result.shape)\n",
    "\n",
    "rmse = calc_rmse(result, load_data, 1-Mask)\n",
    "mae = calc_mae(result, load_data, 1-Mask)  \n",
    "print(rmse, mae )"
   ]
  },
  {
   "cell_type": "code",
   "execution_count": 19,
   "id": "34e98a63",
   "metadata": {},
   "outputs": [],
   "source": [
    "from pypots.imputation import CSDI\n",
    "\n",
    "csdi = CSDI(\n",
    "    n_steps= train_data.shape[1], n_features= train_data.shape[2],\n",
    "    n_layers=6, n_heads=2, n_channels=128,\n",
    "    d_time_embedding=64, d_feature_embedding=32, d_diffusion_embedding=128,\n",
    "    target_strategy=\"random\",\n",
    "    n_diffusion_steps=50,\n",
    "    batch_size=200,             \n",
    "    epochs=1,\n",
    "    optimizer=Adam(lr=1e-3),\n",
    "    num_workers=0, )"
   ]
  },
  {
   "cell_type": "code",
   "execution_count": 10,
   "id": "6964db05",
   "metadata": {
    "scrolled": true
   },
   "outputs": [],
   "source": [
    "csdi.fit( train_set = train_set )"
   ]
  },
  {
   "cell_type": "code",
   "execution_count": 3,
   "id": "fffc6af8",
   "metadata": {},
   "outputs": [],
   "source": [
    "start_time = time.time()\n",
    "\n",
    "result = csdi.predict(test_set, n_sampling_times=1)  \n",
    "\n",
    "end_time = time.time()\n",
    "execution_time = end_time - start_time  \n",
    "print(execution_time) \n",
    "\n",
    "\n",
    "result = result[\"imputation\"]\n",
    "print(result.shape)\n",
    "\n",
    "result = result.mean(axis=1)\n",
    "print(result.shape)"
   ]
  },
  {
   "cell_type": "code",
   "execution_count": 4,
   "id": "ee050e03",
   "metadata": {},
   "outputs": [],
   "source": [
    "rmse = calc_rmse(result, load_data, 1-Mask)\n",
    "mae = calc_mae(result, load_data, 1-Mask)  \n",
    "print(rmse, mae )"
   ]
  },
  {
   "cell_type": "code",
   "execution_count": null,
   "id": "6d88925d",
   "metadata": {},
   "outputs": [],
   "source": []
  },
  {
   "cell_type": "code",
   "execution_count": 20,
   "id": "a90a91d7",
   "metadata": {},
   "outputs": [],
   "source": [
    "from pypots.imputation import ETSformer\n",
    "\n",
    "eTSformer = ETSformer( \n",
    "    n_steps = train_data.shape[1], n_features = train_data.shape[2],\n",
    "    n_heads=8,\n",
    "    d_model=256, d_ffn=512,\n",
    "    top_k=1,\n",
    "    n_encoder_layers=2, n_decoder_layers=2,\n",
    "    batch_size=200, epochs=1000,  )"
   ]
  },
  {
   "cell_type": "code",
   "execution_count": 21,
   "id": "1deb413b",
   "metadata": {
    "scrolled": true
   },
   "outputs": [],
   "source": [
    "eTSformer.fit( train_set = train_set  )"
   ]
  },
  {
   "cell_type": "code",
   "execution_count": 5,
   "id": "663223d2",
   "metadata": {},
   "outputs": [],
   "source": [
    "result = eTSformer.predict(test_set)\n",
    "result = result[\"imputation\"]\n",
    "print(result.shape)\n",
    "\n",
    "rmse = calc_rmse(result, load_data, 1-Mask)\n",
    "mae = calc_mae(result, load_data, 1-Mask)  \n",
    "print(rmse, mae )"
   ]
  },
  {
   "cell_type": "code",
   "execution_count": null,
   "id": "319440ca",
   "metadata": {},
   "outputs": [],
   "source": []
  },
  {
   "cell_type": "code",
   "execution_count": null,
   "id": "abbe361d",
   "metadata": {},
   "outputs": [],
   "source": []
  }
 ],
 "metadata": {
  "kernelspec": {
   "display_name": "Python 3 (ipykernel)",
   "language": "python",
   "name": "python3"
  },
  "language_info": {
   "codemirror_mode": {
    "name": "ipython",
    "version": 3
   },
   "file_extension": ".py",
   "mimetype": "text/x-python",
   "name": "python",
   "nbconvert_exporter": "python",
   "pygments_lexer": "ipython3",
   "version": "3.9.13"
  }
 },
 "nbformat": 4,
 "nbformat_minor": 5
}
